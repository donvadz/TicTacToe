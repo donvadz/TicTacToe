{
 "cells": [
  {
   "cell_type": "code",
   "execution_count": 1,
   "id": "39a1974f",
   "metadata": {},
   "outputs": [
    {
     "name": "stdout",
     "output_type": "stream",
     "text": [
      "-------\n",
      "| | | |\n",
      "-------\n",
      "| | | |\n",
      "-------\n",
      "| | | |\n",
      "-------\n"
     ]
    }
   ],
   "source": [
    "def display_board(board):\n",
    "    print('-' * 7)\n",
    "    print('|' + board[1]  + '|' + board[2] + '|' + board[3] + '|')\n",
    "    print('-' * 7)\n",
    "    print('|' + board[4]  + '|' + board[5] + '|' + board[6] + '|')\n",
    "    print('-' * 7)\n",
    "    print('|' + board[7]  + '|' + board[8] + '|' + board[9] + '|')\n",
    "    print('-' * 7)\n",
    "\n",
    "board = ['#'] + [' '] * 10 \n",
    "display_board(board)"
   ]
  },
  {
   "cell_type": "code",
   "execution_count": 2,
   "id": "65603225",
   "metadata": {},
   "outputs": [],
   "source": [
    "def player_input():\n",
    "    player_marker = ''\n",
    "    \n",
    "    name1 = input('Player 1: What is your name? ')\n",
    "    name2 = input('Player 2: What is your name? ')\n",
    "    \n",
    "    while not (player_marker == 'X' or player_marker == 'O'):\n",
    "        \n",
    "        player_marker = input('{}: What marker would you like to be, X or O? '.format(name1)).upper()\n",
    "        \n",
    "    if player_marker == 'X':\n",
    "            return ('X','O')\n",
    "    elif player_marker == 'O':\n",
    "            return ('O','X')"
   ]
  },
  {
   "cell_type": "code",
   "execution_count": 3,
   "id": "a693a839",
   "metadata": {},
   "outputs": [
    {
     "name": "stdout",
     "output_type": "stream",
     "text": [
      "-------\n",
      "| | | |\n",
      "-------\n",
      "| | | |\n",
      "-------\n",
      "| | | |\n",
      "-------\n"
     ]
    }
   ],
   "source": [
    "def place_marker(board, marker, position):\n",
    "    \n",
    "    board[position] = marker\n",
    "\n",
    "place_marker(board, ' ', 1)\n",
    "display_board(board)"
   ]
  },
  {
   "cell_type": "code",
   "execution_count": 4,
   "id": "ecd407aa",
   "metadata": {},
   "outputs": [],
   "source": [
    "def win_check(board, mark):\n",
    "    if board[1] == mark and board[2] == mark and board[3] == mark:\n",
    "        return True\n",
    "    elif board[4] == mark and board[5] == mark and board[6] == mark:\n",
    "        return True\n",
    "    elif board[7] == mark and board[8] == mark and board[9] == mark:\n",
    "        return True\n",
    "    elif board[1] == mark and board[4] == mark and board[7] == mark:\n",
    "        return True\n",
    "    elif board[2] == mark and board[5] == mark and board[8] == mark:\n",
    "        return True\n",
    "    elif board[3] == mark and board[6] == mark and board[9] == mark:\n",
    "        return True\n",
    "    elif board[1] == mark and board[5] == mark and board[9] == mark:\n",
    "        return True\n",
    "    elif board[3] == mark and board[5] == mark and board[7] == mark:\n",
    "        return True\n",
    "    else:\n",
    "        return False"
   ]
  },
  {
   "cell_type": "code",
   "execution_count": 5,
   "id": "648a76fc",
   "metadata": {},
   "outputs": [],
   "source": [
    "import random\n",
    "def choose_first():\n",
    "    first = random.randint(1,2)\n",
    "    return first\n"
   ]
  },
  {
   "cell_type": "code",
   "execution_count": 6,
   "id": "8a82f896",
   "metadata": {},
   "outputs": [],
   "source": [
    "def space_check(board, position):\n",
    "    if board[position] == ' ':\n",
    "        return True\n",
    "    else:\n",
    "        return False\n"
   ]
  },
  {
   "cell_type": "code",
   "execution_count": 7,
   "id": "fa2726ed",
   "metadata": {},
   "outputs": [],
   "source": [
    "def full_board_check(board):\n",
    "    for check in board:\n",
    "        if check == ' ':\n",
    "            return False\n",
    "    return True"
   ]
  },
  {
   "cell_type": "code",
   "execution_count": 8,
   "id": "285d3d70",
   "metadata": {},
   "outputs": [],
   "source": [
    "def player_choice(board):\n",
    "    x = list(range(1,10))\n",
    "    while True:\n",
    "        next_pos = int(input('What is your next position: '))\n",
    "        if next_pos in x:\n",
    "            return next_pos\n",
    "        else:\n",
    "            print('Invalid choice, Pick again')\n",
    "            "
   ]
  },
  {
   "cell_type": "code",
   "execution_count": 9,
   "id": "a210f23c",
   "metadata": {},
   "outputs": [],
   "source": [
    "def replay():\n",
    "    answer = ''\n",
    "    \n",
    "    while not (answer == 'Y' or answer == 'N'):\n",
    "        \n",
    "        answer = input('Do you want to play again? Please answer (Y) for yes or (N) for no: ').upper()\n",
    "        \n",
    "    if answer == 'Y':\n",
    "        return True\n",
    "    else:\n",
    "        return False"
   ]
  },
  {
   "cell_type": "code",
   "execution_count": null,
   "id": "86ec53fd",
   "metadata": {},
   "outputs": [
    {
     "name": "stdout",
     "output_type": "stream",
     "text": [
      "Hi, Welcome to Tic Tac Toe\n"
     ]
    }
   ],
   "source": [
    "print('Hi, Welcome to Tic Tac Toe')\n",
    "mark = player_input()\n",
    "while True:\n",
    "    board = ['#'] + [' '] * 10 \n",
    "    display_board(board)\n",
    "    \n",
    "    player = choose_first()\n",
    "    print('The player going first will be player {}'.format(player))\n",
    "    while True:\n",
    "        \n",
    "        \n",
    "            \n",
    "        #player 1 Turn\n",
    "        next_move = player_choice(board)\n",
    "        \n",
    "        while space_check(board, next_move):\n",
    "            place_marker(board, mark[player-1], next_move)\n",
    "        \n",
    "        display_board(board)\n",
    "        \n",
    "        if win_check(board, mark[player-1]):\n",
    "            print('Congrats, player {}. You have won!!!'.format(player - 1))\n",
    "            break\n",
    "            \n",
    "        if full_board_check(board):\n",
    "            print('Game is a draw!!!')\n",
    "            break\n",
    "\n",
    "        if player == 1:\n",
    "            player += 1\n",
    "        else:\n",
    "            player -= 1\n",
    "            \n",
    "        #player 2 Turn\n",
    "        \n",
    "        next_move = player_choice(board)\n",
    "        \n",
    "        while space_check(board, next_move):\n",
    "            place_marker(board, mark[player-1], next_move)\n",
    "        \n",
    "        display_board(board)\n",
    "        if win_check(board, mark[player-1]):\n",
    "            print('Congrats, player {}. You have won!!!'.format(player - 1))\n",
    "            break\n",
    "            \n",
    "        if full_board_check(board):\n",
    "            print('Game is a draw!!!')\n",
    "            break\n",
    "        if player == 1:\n",
    "            player += 1\n",
    "        else:\n",
    "            player -= 1\n",
    "    \n",
    "    if replay():\n",
    "        continue\n",
    "    else:\n",
    "        print('Thank you for Playing')\n",
    "        break"
   ]
  },
  {
   "cell_type": "code",
   "execution_count": null,
   "id": "31eb287d",
   "metadata": {},
   "outputs": [],
   "source": []
  }
 ],
 "metadata": {
  "kernelspec": {
   "display_name": "Python 3",
   "language": "python",
   "name": "python3"
  },
  "language_info": {
   "codemirror_mode": {
    "name": "ipython",
    "version": 3
   },
   "file_extension": ".py",
   "mimetype": "text/x-python",
   "name": "python",
   "nbconvert_exporter": "python",
   "pygments_lexer": "ipython3",
   "version": "3.8.8"
  }
 },
 "nbformat": 4,
 "nbformat_minor": 5
}
